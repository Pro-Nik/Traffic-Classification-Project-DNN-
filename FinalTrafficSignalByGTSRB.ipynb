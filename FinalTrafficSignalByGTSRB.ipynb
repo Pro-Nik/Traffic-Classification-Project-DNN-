{
 "cells": [
  {
   "cell_type": "code",
   "execution_count": 1,
   "id": "d8094ec4",
   "metadata": {
    "execution": {
     "iopub.execute_input": "2024-10-29T19:47:38.356968Z",
     "iopub.status.busy": "2024-10-29T19:47:38.356630Z",
     "iopub.status.idle": "2024-10-29T19:48:06.350899Z",
     "shell.execute_reply": "2024-10-29T19:48:06.349821Z"
    },
    "papermill": {
     "duration": 28.004333,
     "end_time": "2024-10-29T19:48:06.353542",
     "exception": false,
     "start_time": "2024-10-29T19:47:38.349209",
     "status": "completed"
    },
    "tags": []
   },
   "outputs": [],
   "source": [
    "import numpy as np\n",
    "import os\n",
    "from tensorflow.keras.layers import Input, Conv2D, MaxPooling2D, Flatten, Dense\n",
    "from tensorflow.keras.models import Model\n",
    "from tensorflow.keras.optimizers import Adam\n",
    "from sklearn.model_selection import train_test_split\n",
    "\n",
    "os.chdir('E:\\DIAT_SEM_1_DNN_ASS\\Traffic')\n",
    "# Step 1: Load the Data from .npy Files\n",
    "data = np.load('./Dataset/data.npy')\n",
    "labels = np.load('./Dataset/target.npy')\n",
    "\n"
   ]
  },
  {
   "cell_type": "code",
   "execution_count": 2,
   "id": "aa2a4003",
   "metadata": {
    "execution": {
     "iopub.execute_input": "2024-10-29T19:48:06.369435Z",
     "iopub.status.busy": "2024-10-29T19:48:06.368817Z",
     "iopub.status.idle": "2024-10-29T19:48:07.038354Z",
     "shell.execute_reply": "2024-10-29T19:48:07.037488Z"
    },
    "papermill": {
     "duration": 0.680186,
     "end_time": "2024-10-29T19:48:07.040973",
     "exception": false,
     "start_time": "2024-10-29T19:48:06.360787",
     "status": "completed"
    },
    "tags": []
   },
   "outputs": [],
   "source": [
    "# Step 2: Preprocess the Data\n",
    "# Normalize the data to [0, 1]\n",
    "data = data.astype('float32') / 255.0"
   ]
  },
  {
   "cell_type": "code",
   "execution_count": 3,
   "id": "57add83d",
   "metadata": {
    "execution": {
     "iopub.execute_input": "2024-10-29T19:48:07.056310Z",
     "iopub.status.busy": "2024-10-29T19:48:07.055966Z",
     "iopub.status.idle": "2024-10-29T19:48:07.073906Z",
     "shell.execute_reply": "2024-10-29T19:48:07.073140Z"
    },
    "papermill": {
     "duration": 0.028018,
     "end_time": "2024-10-29T19:48:07.075934",
     "exception": false,
     "start_time": "2024-10-29T19:48:07.047916",
     "status": "completed"
    },
    "tags": []
   },
   "outputs": [],
   "source": [
    "from keras.utils import to_categorical\n",
    "# Convert labels to categorical if needed\n",
    "num_classes = len(np.unique(labels))  # Determine number of classes\n",
    "labels = to_categorical(labels, num_classes)"
   ]
  },
  {
   "cell_type": "code",
   "execution_count": 4,
   "id": "814941de",
   "metadata": {
    "execution": {
     "iopub.execute_input": "2024-10-29T19:48:07.091146Z",
     "iopub.status.busy": "2024-10-29T19:48:07.090817Z",
     "iopub.status.idle": "2024-10-29T19:48:07.662450Z",
     "shell.execute_reply": "2024-10-29T19:48:07.661381Z"
    },
    "papermill": {
     "duration": 0.582137,
     "end_time": "2024-10-29T19:48:07.665067",
     "exception": false,
     "start_time": "2024-10-29T19:48:07.082930",
     "status": "completed"
    },
    "tags": []
   },
   "outputs": [],
   "source": [
    "# Split data into training and validation sets\n",
    "X_train, X_val, y_train, y_val = train_test_split(data, labels, test_size=0.2, random_state=42,shuffle=True)"
   ]
  },
  {
   "cell_type": "code",
   "execution_count": 5,
   "id": "5194f462",
   "metadata": {
    "execution": {
     "iopub.execute_input": "2024-10-29T19:48:07.680535Z",
     "iopub.status.busy": "2024-10-29T19:48:07.680125Z",
     "iopub.status.idle": "2024-10-29T19:48:07.688841Z",
     "shell.execute_reply": "2024-10-29T19:48:07.687917Z"
    },
    "papermill": {
     "duration": 0.018708,
     "end_time": "2024-10-29T19:48:07.690923",
     "exception": false,
     "start_time": "2024-10-29T19:48:07.672215",
     "status": "completed"
    },
    "tags": []
   },
   "outputs": [],
   "source": [
    "# Step 3: Create the CNN Model\n",
    "def create_cnn(num_classes):\n",
    "    input_shape = Input(shape=(64, 64, 3))\n",
    "    x = Conv2D(32, (3, 3), activation='relu', padding='valid')(input_shape)\n",
    "    x = MaxPooling2D(pool_size=(2, 2))(x)\n",
    "    \n",
    "    x = Conv2D(64, (3, 3), activation='relu', padding='valid')(x)\n",
    "    x = MaxPooling2D(pool_size=(2, 2))(x)\n",
    "    \n",
    "    x = Conv2D(128, (3, 3), activation='relu', padding='valid')(x)\n",
    "    x = MaxPooling2D(pool_size=(2, 2))(x)\n",
    "    \n",
    "    x = Flatten()(x)\n",
    "    x = Dense(128, activation='relu')(x)\n",
    "    output = Dense(num_classes, activation='softmax')(x)  # Output layer\n",
    "\n",
    "    model = Model(inputs=input_shape, outputs=output)\n",
    "    return model\n"
   ]
  },
  {
   "cell_type": "code",
   "execution_count": 6,
   "id": "0af2c946",
   "metadata": {
    "execution": {
     "iopub.execute_input": "2024-10-29T19:48:07.705959Z",
     "iopub.status.busy": "2024-10-29T19:48:07.705391Z",
     "iopub.status.idle": "2024-10-29T19:48:08.900509Z",
     "shell.execute_reply": "2024-10-29T19:48:08.899564Z"
    },
    "papermill": {
     "duration": 1.204935,
     "end_time": "2024-10-29T19:48:08.902654",
     "exception": false,
     "start_time": "2024-10-29T19:48:07.697719",
     "status": "completed"
    },
    "tags": []
   },
   "outputs": [
    {
     "name": "stdout",
     "output_type": "stream",
     "text": [
      "Model: \"model\"\n",
      "_________________________________________________________________\n",
      " Layer (type)                Output Shape              Param #   \n",
      "=================================================================\n",
      " input_1 (InputLayer)        [(None, 64, 64, 3)]       0         \n",
      "                                                                 \n",
      " conv2d (Conv2D)             (None, 62, 62, 32)        896       \n",
      "                                                                 \n",
      " max_pooling2d (MaxPooling2D  (None, 31, 31, 32)       0         \n",
      " )                                                               \n",
      "                                                                 \n",
      " conv2d_1 (Conv2D)           (None, 29, 29, 64)        18496     \n",
      "                                                                 \n",
      " max_pooling2d_1 (MaxPooling  (None, 14, 14, 64)       0         \n",
      " 2D)                                                             \n",
      "                                                                 \n",
      " conv2d_2 (Conv2D)           (None, 12, 12, 128)       73856     \n",
      "                                                                 \n",
      " max_pooling2d_2 (MaxPooling  (None, 6, 6, 128)        0         \n",
      " 2D)                                                             \n",
      "                                                                 \n",
      " flatten (Flatten)           (None, 4608)              0         \n",
      "                                                                 \n",
      " dense (Dense)               (None, 128)               589952    \n",
      "                                                                 \n",
      " dense_1 (Dense)             (None, 43)                5547      \n",
      "                                                                 \n",
      "=================================================================\n",
      "Total params: 688,747\n",
      "Trainable params: 688,747\n",
      "Non-trainable params: 0\n",
      "_________________________________________________________________\n"
     ]
    }
   ],
   "source": [
    "# Step 4: Compile the Model\n",
    "cnn_model = create_cnn(num_classes)\n",
    "cnn_model.compile(optimizer=Adam(), loss='categorical_crossentropy', metrics=['accuracy'])\n",
    "cnn_model.summary()"
   ]
  },
  {
   "cell_type": "code",
   "execution_count": 7,
   "id": "a25aab90",
   "metadata": {
    "execution": {
     "iopub.execute_input": "2024-10-29T19:48:08.920522Z",
     "iopub.status.busy": "2024-10-29T19:48:08.920148Z",
     "iopub.status.idle": "2024-10-29T19:49:16.383592Z",
     "shell.execute_reply": "2024-10-29T19:49:16.382514Z"
    },
    "papermill": {
     "duration": 67.474809,
     "end_time": "2024-10-29T19:49:16.385749",
     "exception": false,
     "start_time": "2024-10-29T19:48:08.910940",
     "status": "completed"
    },
    "tags": []
   },
   "outputs": [
    {
     "name": "stdout",
     "output_type": "stream",
     "text": [
      "Epoch 1/10\n",
      "491/491 [==============================] - 25s 27ms/step - loss: 0.9670 - accuracy: 0.7347 - val_loss: 0.1788 - val_accuracy: 0.9527\n",
      "Epoch 2/10\n",
      "491/491 [==============================] - 8s 17ms/step - loss: 0.1016 - accuracy: 0.9738 - val_loss: 0.0881 - val_accuracy: 0.9810\n",
      "Epoch 3/10\n",
      "491/491 [==============================] - 8s 16ms/step - loss: 0.0490 - accuracy: 0.9865 - val_loss: 0.0572 - val_accuracy: 0.9869\n",
      "Epoch 4/10\n",
      "491/491 [==============================] - 7s 14ms/step - loss: 0.0318 - accuracy: 0.9912 - val_loss: 0.1284 - val_accuracy: 0.9695\n",
      "Epoch 5/10\n",
      "491/491 [==============================] - 7s 15ms/step - loss: 0.0272 - accuracy: 0.9922 - val_loss: 0.0581 - val_accuracy: 0.9858\n",
      "Epoch 6/10\n",
      "491/491 [==============================] - 8s 17ms/step - loss: 0.0253 - accuracy: 0.9933 - val_loss: 0.0513 - val_accuracy: 0.9895\n",
      "Epoch 7/10\n",
      "491/491 [==============================] - 7s 15ms/step - loss: 0.0139 - accuracy: 0.9959 - val_loss: 0.0591 - val_accuracy: 0.9871\n",
      "Epoch 8/10\n",
      "491/491 [==============================] - 7s 14ms/step - loss: 0.0125 - accuracy: 0.9965 - val_loss: 0.0568 - val_accuracy: 0.9915\n",
      "Epoch 9/10\n",
      "491/491 [==============================] - 7s 14ms/step - loss: 0.0121 - accuracy: 0.9965 - val_loss: 0.0602 - val_accuracy: 0.9897\n",
      "Epoch 10/10\n",
      "491/491 [==============================] - 7s 15ms/step - loss: 0.0128 - accuracy: 0.9963 - val_loss: 0.0622 - val_accuracy: 0.9890\n"
     ]
    }
   ],
   "source": [
    "\n",
    "# Step 5: Train the Model\n",
    "history = cnn_model.fit(X_train, y_train, validation_data=(X_val, y_val), epochs=10, batch_size=64)\n"
   ]
  },
  {
   "cell_type": "code",
   "execution_count": null,
   "id": "2e92a0de",
   "metadata": {},
   "outputs": [],
   "source": [
    "import gc\n",
    "gc.collect()"
   ]
  },
  {
   "cell_type": "code",
   "execution_count": 9,
   "id": "94b89cc3",
   "metadata": {},
   "outputs": [
    {
     "name": "stdout",
     "output_type": "stream",
     "text": [
      "246/246 [==============================] - 1s 4ms/step - loss: 0.0622 - accuracy: 0.9890\n",
      "Test accuracy: 0.9890\n"
     ]
    }
   ],
   "source": [
    "# Step 6: Evaluate the Model\n",
    "test_loss, test_accuracy = cnn_model.evaluate(X_val, y_val)\n",
    "print(f'Test accuracy: {test_accuracy:.4f}')"
   ]
  },
  {
   "cell_type": "code",
   "execution_count": 10,
   "id": "287254e0",
   "metadata": {
    "execution": {
     "iopub.execute_input": "2024-10-29T19:49:16.565455Z",
     "iopub.status.busy": "2024-10-29T19:49:16.564503Z",
     "iopub.status.idle": "2024-10-29T19:49:16.922099Z",
     "shell.execute_reply": "2024-10-29T19:49:16.921019Z"
    },
    "papermill": {
     "duration": 0.449381,
     "end_time": "2024-10-29T19:49:16.924405",
     "exception": false,
     "start_time": "2024-10-29T19:49:16.475024",
     "status": "completed"
    },
    "tags": []
   },
   "outputs": [
    {
     "data": {
      "image/png": "[encoded data removed]",
      "text/plain": [
       "<Figure size 640x480 with 1 Axes>"
      ]
     },
     "metadata": {},
     "output_type": "display_data"
    }
   ],
   "source": [
    "import matplotlib.pyplot as plt\n",
    "# accuracy\n",
    "plt.figure(0)\n",
    "plt.plot(history.history['accuracy'], label='training accuracy')\n",
    "plt.plot(history.history['val_accuracy'], label='val accuracy')\n",
    "plt.title('Accuracy')\n",
    "plt.xlabel('epochs')\n",
    "plt.ylabel('accuracy')\n",
    "plt.legend()\n",
    "plt.show()"
   ]
  },
  {
   "cell_type": "code",
   "execution_count": 11,
   "id": "01881be8",
   "metadata": {
    "execution": {
     "iopub.execute_input": "2024-10-29T19:49:17.099505Z",
     "iopub.status.busy": "2024-10-29T19:49:17.098596Z",
     "iopub.status.idle": "2024-10-29T19:49:17.389140Z",
     "shell.execute_reply": "2024-10-29T19:49:17.387916Z"
    },
    "papermill": {
     "duration": 0.380584,
     "end_time": "2024-10-29T19:49:17.391305",
     "exception": false,
     "start_time": "2024-10-29T19:49:17.010721",
     "status": "completed"
    },
    "tags": []
   },
   "outputs": [
    {
     "data": {
      "image/png": "[encoded data removed]",
      "text/plain": [
       "<Figure size 640x480 with 1 Axes>"
      ]
     },
     "metadata": {},
     "output_type": "display_data"
    }
   ],
   "source": [
    "# Loss\n",
    "plt.plot(history.history['loss'], label='training loss')\n",
    "plt.plot(history.history['val_loss'], label='val loss')\n",
    "plt.title('Loss')\n",
    "plt.xlabel('epochs')\n",
    "plt.ylabel('loss')\n",
    "plt.legend()\n",
    "plt.show()"
   ]
  },
  {
   "cell_type": "code",
   "execution_count": 12,
   "id": "dda11849",
   "metadata": {
    "execution": {
     "iopub.execute_input": "2024-10-29T19:49:17.572953Z",
     "iopub.status.busy": "2024-10-29T19:49:17.572154Z",
     "iopub.status.idle": "2024-10-29T19:49:17.580942Z",
     "shell.execute_reply": "2024-10-29T19:49:17.580043Z"
    },
    "papermill": {
     "duration": 0.103228,
     "end_time": "2024-10-29T19:49:17.583006",
     "exception": false,
     "start_time": "2024-10-29T19:49:17.479778",
     "status": "completed"
    },
    "tags": []
   },
   "outputs": [],
   "source": [
    "# Classes of trafic signs\n",
    "classes = { 0:'Speed limit (20km/h)',\n",
    "            1:'Speed limit (30km/h)', \n",
    "            2:'Speed limit (50km/h)', \n",
    "            3:'Speed limit (60km/h)', \n",
    "            4:'Speed limit (70km/h)', \n",
    "            5:'Speed limit (80km/h)', \n",
    "            6:'End of speed limit (80km/h)', \n",
    "            7:'Speed limit (100km/h)', \n",
    "            8:'Speed limit (120km/h)', \n",
    "            9:'No passing', \n",
    "            10:'No passing veh over 3.5 tons', \n",
    "            11:'Right-of-way at intersection', \n",
    "            12:'Priority road', \n",
    "            13:'Yield', \n",
    "            14:'Stop', \n",
    "            15:'No vehicles', \n",
    "            16:'Veh > 3.5 tons prohibited', \n",
    "            17:'No entry', \n",
    "            18:'General caution', \n",
    "            19:'Dangerous curve left', \n",
    "            20:'Dangerous curve right', \n",
    "            21:'Double curve', \n",
    "            22:'Bumpy road', \n",
    "            23:'Slippery road', \n",
    "            24:'Road narrows on the right', \n",
    "            25:'Road work', \n",
    "            26:'Traffic signals', \n",
    "            27:'Pedestrians', \n",
    "            28:'Children crossing', \n",
    "            29:'Bicycles crossing', \n",
    "            30:'Beware of ice/snow',\n",
    "            31:'Wild animals crossing', \n",
    "            32:'End speed + passing limits', \n",
    "            33:'Turn right ahead', \n",
    "            34:'Turn left ahead', \n",
    "            35:'Ahead only', \n",
    "            36:'Go straight or right', \n",
    "            37:'Go straight or left', \n",
    "            38:'Keep right', \n",
    "            39:'Keep left', \n",
    "            40:'Roundabout mandatory', \n",
    "            41:'End of no passing', \n",
    "            42:'End no passing veh > 3.5 tons' }"
   ]
  },
  {
   "cell_type": "code",
   "execution_count": 13,
   "id": "ccc23217",
   "metadata": {
    "execution": {
     "iopub.execute_input": "2024-10-29T19:49:17.758402Z",
     "iopub.status.busy": "2024-10-29T19:49:17.757517Z",
     "iopub.status.idle": "2024-10-29T19:49:17.820381Z",
     "shell.execute_reply": "2024-10-29T19:49:17.819339Z"
    },
    "papermill": {
     "duration": 0.152745,
     "end_time": "2024-10-29T19:49:17.822887",
     "exception": false,
     "start_time": "2024-10-29T19:49:17.670142",
     "status": "completed"
    },
    "tags": []
   },
   "outputs": [],
   "source": [
    "cnn_model.save(\"./Chandresh.h5\")"
   ]
  }
 ],
 "metadata": {
  "kaggle": {
   "accelerator": "nvidiaTeslaT4",
   "dataSources": [
    {
     "datasetId": 5974152,
     "sourceId": 9756746,
     "sourceType": "datasetVersion"
    },
    {
     "datasetId": 5974453,
     "sourceId": 9757129,
     "sourceType": "datasetVersion"
    }
   ],
   "dockerImageVersionId": 30787,
   "isGpuEnabled": true,
   "isInternetEnabled": true,
   "language": "python",
   "sourceType": "notebook"
  },
  "kernelspec": {
   "display_name": "Python 3 (ipykernel)",
   "language": "python",
   "name": "python3"
  },
  "language_info": {
   "codemirror_mode": {
    "name": "ipython",
    "version": 3
   },
   "file_extension": ".py",
   "mimetype": "text/x-python",
   "name": "python",
   "nbconvert_exporter": "python",
   "pygments_lexer": "ipython3",
   "version": "3.9.13"
  },
  "papermill": {
   "default_parameters": {},
   "duration": 107.385888,
   "end_time": "2024-10-29T19:49:21.296848",
   "environment_variables": {},
   "exception": null,
   "input_path": "__notebook__.ipynb",
   "output_path": "__notebook__.ipynb",
   "parameters": {},
   "start_time": "2024-10-29T19:47:33.910960",
   "version": "2.6.0"
  }
 },
 "nbformat": 4,
 "nbformat_minor": 5
}
